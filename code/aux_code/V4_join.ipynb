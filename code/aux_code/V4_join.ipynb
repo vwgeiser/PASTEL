{
 "cells": [
  {
   "cell_type": "code",
   "execution_count": 2,
   "metadata": {},
   "outputs": [],
   "source": [
    "import pandas as pd"
   ]
  },
  {
   "cell_type": "code",
   "execution_count": 6,
   "metadata": {},
   "outputs": [],
   "source": [
    "atsdata = pd.read_csv(r\"C:\\Users\\vwgei\\Documents\\PVOCAL\\data\\V4\\V4_ATS.csv\")\n",
    "trajdata = pd.read_csv(r\"C:\\Users\\vwgei\\Documents\\PVOCAL\\data\\V4_trajectory_data.csv\")"
   ]
  },
  {
   "cell_type": "code",
   "execution_count": 7,
   "metadata": {},
   "outputs": [],
   "source": [
    "V4_awakens = pd.merge(atsdata, trajdata, how='inner', on='iindex')\n",
    "V4_awakens.to_csv(r\"C:\\Users\\vwgei\\Documents\\PVOCAL\\data\\V4\\V4_Awakens.csv\", index=False)"
   ]
  }
 ],
 "metadata": {
  "kernelspec": {
   "display_name": "PVOCAL",
   "language": "python",
   "name": "python3"
  },
  "language_info": {
   "codemirror_mode": {
    "name": "ipython",
    "version": 3
   },
   "file_extension": ".py",
   "mimetype": "text/x-python",
   "name": "python",
   "nbconvert_exporter": "python",
   "pygments_lexer": "ipython3",
   "version": "3.11.4"
  }
 },
 "nbformat": 4,
 "nbformat_minor": 2
}
